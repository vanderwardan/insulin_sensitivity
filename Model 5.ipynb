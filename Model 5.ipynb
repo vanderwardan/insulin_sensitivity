{
 "cells": [
  {
   "cell_type": "code",
   "execution_count": 7,
   "metadata": {},
   "outputs": [],
   "source": [
    "import numpy as np\n",
    "import pandas as pd\n",
    "import matplotlib.pyplot as plt\n",
    "import scipy.stats as sps\n",
    "from sklearn.linear_model import LinearRegression\n",
    "from sklearn.metrics import r2_score"
   ]
  },
  {
   "cell_type": "markdown",
   "metadata": {},
   "source": [
    "We got equations: \n",
    "$$\n",
    "\\begin{cases}\n",
    "\\frac{dG}{dt} = p_1 G + p_2 X + p_3 \\\\\n",
    "\\frac{dX}{dt} = p_4 X + I(t)\n",
    "\\end{cases}\n",
    "$$"
   ]
  },
  {
   "cell_type": "markdown",
   "metadata": {},
   "source": [
    "Let's first generate G"
   ]
  },
  {
   "cell_type": "code",
   "execution_count": 4,
   "metadata": {},
   "outputs": [],
   "source": [
    "def getI(t, I_max, a=1, t1=10):\n",
    "    return I_max / np.cosh(a * (t - t1))\n",
    "\n",
    "def find_g(p1, p2, p3, p4, p5, X0, I_max, T, step=1):\n",
    "    '''\n",
    "    Modelat G with given parameters\n",
    "    '''\n",
    "    g = [p5]\n",
    "    x = [X0]\n",
    "    \n",
    "    for t in range(int(T * step)):\n",
    "        dg_dt = p1 * g[-1] + p2 * x[-1] + p3\n",
    "        dx_dt = getI(t / step, I_max) + p4 * x[-1]\n",
    "        \n",
    "        g.append(g[-1] + dg_dt / step)\n",
    "        x.append(x[-1] + dx_dt / step)\n",
    "        \n",
    "    return np.array(g), np.array(x)"
   ]
  },
  {
   "cell_type": "code",
   "execution_count": 5,
   "metadata": {},
   "outputs": [],
   "source": [
    "p1 = -6.5 / 100\n",
    "p2 = -9.1 / 1000\n",
    "p3 = 5.97\n",
    "p4 = -1.01 / 10\n",
    "\n",
    "p5 = 150\n",
    "X0 = 80\n",
    "I_max = 100"
   ]
  },
  {
   "cell_type": "code",
   "execution_count": 11,
   "metadata": {},
   "outputs": [],
   "source": [
    "step = 100\n",
    "T = 60\n",
    "G, X = find_g(p1, p2, p3, p4, p5, X0, I_max, T, step)\n",
    "I = [getI(t / step, I_max) for t in range(int(T * step) + 1)]"
   ]
  },
  {
   "cell_type": "code",
   "execution_count": 12,
   "metadata": {},
   "outputs": [
    {
     "data": {
      "text/plain": [
       "<matplotlib.legend.Legend at 0x7fdcf41fabe0>"
      ]
     },
     "execution_count": 12,
     "metadata": {},
     "output_type": "execute_result"
    },
    {
     "data": {
      "image/png": "[encoded data removed]",
      "text/plain": [
       "<Figure size 1080x576 with 1 Axes>"
      ]
     },
     "metadata": {
      "needs_background": "light"
     },
     "output_type": "display_data"
    }
   ],
   "source": [
    "plt.figure(figsize=(15, 8))\n",
    "plt.plot(G, label='G')\n",
    "plt.plot(I, label='I')\n",
    "plt.plot(X/10, label='X')\n",
    "plt.legend()"
   ]
  },
  {
   "cell_type": "markdown",
   "metadata": {},
   "source": [
    "Let's prove numerically that this problem non-observable. To do so we'll find infinite number parameters for the same G that fit equations"
   ]
  },
  {
   "cell_type": "code",
   "execution_count": 6,
   "metadata": {},
   "outputs": [],
   "source": [
    "def get_params_basic(p4, G, I, X0, step):\n",
    "    '''\n",
    "    For given G, I, p_4 and X(0) find p_1, p_2 and p_3 that fit equations and r2_score of that fit\n",
    "    '''\n",
    "\n",
    "    X_ = [X0]\n",
    "\n",
    "    #find X from second equation\n",
    "    for g in G[:-1]:\n",
    "        dx_dt = g + p4 * X_[-1]\n",
    "        X_.append(X_[-1] + dx_dt / step)\n",
    "\n",
    "    #find p1, p2, p3 from first equation\n",
    "    Y = (G[1:] - G[:-1]) * step\n",
    "    Z = np.vstack([G[:-1], X_[:-1]]).T\n",
    "\n",
    "    model = LinearRegression().fit(Z[:], Y[:])\n",
    "    y_pred = model.predict(Z[:])\n",
    "           \n",
    "    return r2_score(y_pred, Y), model.coef_, model.intercept_\n",
    "\n",
    "def get_params_pro(p4, G, X0, step):\n",
    "    '''\n",
    "    For given p4 and G trying to find X0 (close to one that user defined), so r2_score is best\n",
    "    Print that r2_score and return p_1, p_2, p_3\n",
    "    '''\n",
    "    grid = np.arange(0.2, 10.001, 0.05)\n",
    "    r2_scores = [get_params_basic(p4, G, X0 * coef, step)[0] for coef in grid]\n",
    "    best_coef = grid[np.argmax(r2_scores)]\n",
    "    res = get_params_basic(p4, G, X0 * best_coef, step)\n",
    "    print(\"R2 score of fit:\", round(res[0], 4))\n",
    "    \n",
    "    return res[1:]"
   ]
  },
  {
   "cell_type": "markdown",
   "metadata": {},
   "source": [
    "Now for different $p_4$ we'll find different $p_1, p_2, p_3$ that fit equations"
   ]
  },
  {
   "cell_type": "code",
   "execution_count": 10,
   "metadata": {},
   "outputs": [
    {
     "name": "stdout",
     "output_type": "stream",
     "text": [
      "p_4=-0.0985 R2 score of fit: 0.9894\n",
      "p_4=-0.1182 R2 score of fit: 0.9927\n",
      "p_4=-0.1379 R2 score of fit: 0.9964\n",
      "p_4=-0.1576 R2 score of fit: 0.999\n",
      "p_4=-0.1773 R2 score of fit: 1.0\n",
      "p_4=-0.197 R2 score of fit: 1.0\n",
      "p_4=-0.2167 R2 score of fit: 1.0\n",
      "p_4=-0.2364 R2 score of fit: 1.0\n",
      "p_4=-0.2561 R2 score of fit: 1.0\n",
      "p_4=-0.2758 R2 score of fit: 1.0\n",
      "p_4=-0.2955 R2 score of fit: 1.0\n",
      "p_4=-0.3152 R2 score of fit: 1.0\n",
      "p_4=-0.3349 R2 score of fit: 1.0\n",
      "p_4=-0.3546 R2 score of fit: 1.0\n",
      "p_4=-0.3743 R2 score of fit: 1.0\n"
     ]
    }
   ],
   "source": [
    "res = []\n",
    "for p4_ in np.arange(0.5, 2, 0.1) * p4:\n",
    "    print(\"p_4={}\".format(round(p4_, 4)),end=' ')\n",
    "    [p1_, p2_], p3_ = get_params_pro(p4_, G[::step], X0, 1)\n",
    "    res.append([p1_, p2_, p3_, p4_])\n",
    "res = np.array(res)"
   ]
  },
  {
   "cell_type": "markdown",
   "metadata": {},
   "source": [
    "Here you can see how parameters change"
   ]
  },
  {
   "cell_type": "code",
   "execution_count": 11,
   "metadata": {},
   "outputs": [
    {
     "data": {
      "text/plain": [
       "<matplotlib.legend.Legend at 0x7ff30d1f9e50>"
      ]
     },
     "execution_count": 11,
     "metadata": {},
     "output_type": "execute_result"
    },
    {
     "data": {
      "image/png": "[encoded data removed]",
      "text/plain": [
       "<Figure size 432x288 with 1 Axes>"
      ]
     },
     "metadata": {
      "needs_background": "light"
     },
     "output_type": "display_data"
    }
   ],
   "source": [
    "plt.xlabel('Number of solution')\n",
    "plt.title('Parameters values')\n",
    "plt.plot(res[:, 0], label='p_1')\n",
    "plt.plot(res[:, 1], label='p_2')\n",
    "plt.plot(res[:, 3], label='p_4')\n",
    "plt.legend()"
   ]
  },
  {
   "cell_type": "code",
   "execution_count": 12,
   "metadata": {},
   "outputs": [
    {
     "data": {
      "text/plain": [
       "<matplotlib.legend.Legend at 0x7ff30d1e6c10>"
      ]
     },
     "execution_count": 12,
     "metadata": {},
     "output_type": "execute_result"
    },
    {
     "data": {
      "image/png": "[encoded data removed]",
      "text/plain": [
       "<Figure size 432x288 with 1 Axes>"
      ]
     },
     "metadata": {
      "needs_background": "light"
     },
     "output_type": "display_data"
    }
   ],
   "source": [
    "plt.xlabel('Number of solution')\n",
    "plt.title('Parameters values')\n",
    "plt.plot(res[:, 2], label='p_3')\n",
    "plt.legend()"
   ]
  },
  {
   "cell_type": "markdown",
   "metadata": {},
   "source": [
    "## So we can see that for one G there could be several $p_1, p_2, p_3, p_4$ that fit equations. So problem is non-observable"
   ]
  },
  {
   "cell_type": "code",
   "execution_count": null,
   "metadata": {},
   "outputs": [],
   "source": []
  },
  {
   "cell_type": "code",
   "execution_count": null,
   "metadata": {},
   "outputs": [],
   "source": []
  },
  {
   "cell_type": "code",
   "execution_count": null,
   "metadata": {},
   "outputs": [],
   "source": []
  },
  {
   "cell_type": "markdown",
   "metadata": {},
   "source": [
    "## TODO\n",
    "1) Find limit value of G theoretically (by equation)\n",
    "\n",
    "2) Tune p_1 (0-6) so that it fits limit value \n",
    "\n",
    "3) Do 1) for all models"
   ]
  },
  {
   "cell_type": "markdown",
   "metadata": {},
   "source": [
    "## Task 1"
   ]
  },
  {
   "cell_type": "markdown",
   "metadata": {},
   "source": [
    "If exists limit for G and X, let's call them $\\hat{G}$ and $\\hat{X}$. Then we have following equations:\n",
    "$$\n",
    "\\begin{cases}\n",
    "p_1 \\hat{G} + p_2 \\hat{X} + p_3 = 0 \\\\\n",
    "\\hat{G} + p_4 \\hat{X} = 0\n",
    "\\end{cases}\n",
    "$$\n",
    "One could solve it:\n",
    "$$\n",
    "\\begin{cases}\n",
    "\\hat{X} = \\frac{p_3}{p_1 p_4 - p_2} \\\\\n",
    "\\hat{G} = \\frac{-p_3 p_4}{p_1 p_4 - p_2}\n",
    "\\end{cases}\n",
    "$$"
   ]
  },
  {
   "cell_type": "markdown",
   "metadata": {},
   "source": [
    "Let's find $\\hat{G}$:"
   ]
  },
  {
   "cell_type": "code",
   "execution_count": 7,
   "metadata": {},
   "outputs": [
    {
     "data": {
      "text/plain": [
       "205.80188518732774"
      ]
     },
     "execution_count": 7,
     "metadata": {},
     "output_type": "execute_result"
    }
   ],
   "source": [
    "-p3 * p4 / (p1 * p4 - p2)"
   ]
  },
  {
   "cell_type": "markdown",
   "metadata": {},
   "source": [
    "## Task 2"
   ]
  },
  {
   "cell_type": "markdown",
   "metadata": {},
   "source": [
    "We can find proper $p_1$, so that $\\lim{G}=80$:"
   ]
  },
  {
   "cell_type": "code",
   "execution_count": 8,
   "metadata": {},
   "outputs": [
    {
     "data": {
      "text/plain": [
       "-0.051673223350253816"
      ]
     },
     "execution_count": 8,
     "metadata": {},
     "output_type": "execute_result"
    }
   ],
   "source": [
    "p2 / p4 - p3 / 80"
   ]
  },
  {
   "cell_type": "code",
   "execution_count": null,
   "metadata": {},
   "outputs": [],
   "source": []
  }
 ],
 "metadata": {
  "kernelspec": {
   "display_name": "Python 3",
   "language": "python",
   "name": "python3"
  },
  "language_info": {
   "codemirror_mode": {
    "name": "ipython",
    "version": 3
   },
   "file_extension": ".py",
   "mimetype": "text/x-python",
   "name": "python",
   "nbconvert_exporter": "python",
   "pygments_lexer": "ipython3",
   "version": "3.8.3"
  }
 },
 "nbformat": 4,
 "nbformat_minor": 4
}
