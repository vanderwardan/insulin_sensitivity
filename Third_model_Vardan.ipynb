{
 "cells": [
  {
   "cell_type": "code",
   "execution_count": 1,
   "metadata": {},
   "outputs": [],
   "source": [
    "import numpy as np\n",
    "import pandas as pd\n",
    "import matplotlib.pyplot as plt\n",
    "import scipy.stats as sps\n",
    "from sklearn.linear_model import LinearRegression\n",
    "from sklearn.metrics import r2_score"
   ]
  },
  {
   "cell_type": "code",
   "execution_count": 68,
   "metadata": {},
   "outputs": [],
   "source": [
    "p1 = 1.87 / 100\n",
    "p2 = -1.25 / 100\n",
    "p3 = 9.21\n",
    "p4 = -1.97 / 10\n",
    "\n",
    "p5 = 150\n",
    "X0 = 80"
   ]
  },
  {
   "cell_type": "code",
   "execution_count": 69,
   "metadata": {},
   "outputs": [],
   "source": [
    "def find_g(p1, p2, p3, p4, p5, X0, T, step=1):\n",
    "    g = [p5]\n",
    "    x = [X0]\n",
    "    \n",
    "    for _ in range(int(T * step)):\n",
    "        dg_dt = p1 * g[-1] + p2 * x[-1] + p3\n",
    "        dx_dt = g[-1] + p4 * x[-1]\n",
    "        \n",
    "        g.append(g[-1] + dg_dt / step)\n",
    "        x.append(x[-1] + dx_dt / step)\n",
    "        \n",
    "    return np.array(g), np.array(x)"
   ]
  },
  {
   "cell_type": "code",
   "execution_count": 70,
   "metadata": {},
   "outputs": [],
   "source": [
    "step = 100\n",
    "T = 60\n",
    "G, X = find_g(p1, p2, p3, p4, p5, X0, T, step)"
   ]
  },
  {
   "cell_type": "code",
   "execution_count": 71,
   "metadata": {},
   "outputs": [
    {
     "data": {
      "text/plain": [
       "<matplotlib.legend.Legend at 0x7f8b6a266e50>"
      ]
     },
     "execution_count": 71,
     "metadata": {},
     "output_type": "execute_result"
    },
    {
     "data": {
      "image/png": "[encoded data removed]",
      "text/plain": [
       "<Figure size 432x288 with 1 Axes>"
      ]
     },
     "metadata": {
      "needs_background": "light"
     },
     "output_type": "display_data"
    }
   ],
   "source": [
    "plt.plot(G, label='G')\n",
    "# plt.plot(X/10, label='X')\n",
    "plt.legend()"
   ]
  },
  {
   "cell_type": "markdown",
   "metadata": {},
   "source": [
    "## TODO\n",
    "1) Find limit value of G theoretically (by equation)\n",
    "\n",
    "2) Tune p_1 (0-6) so that it fits limit value \n",
    "\n",
    "3) Do 1) for all models"
   ]
  },
  {
   "cell_type": "code",
   "execution_count": null,
   "metadata": {},
   "outputs": [],
   "source": []
  }
 ],
 "metadata": {
  "kernelspec": {
   "display_name": "Python 3",
   "language": "python",
   "name": "python3"
  },
  "language_info": {
   "codemirror_mode": {
    "name": "ipython",
    "version": 3
   },
   "file_extension": ".py",
   "mimetype": "text/x-python",
   "name": "python",
   "nbconvert_exporter": "python",
   "pygments_lexer": "ipython3",
   "version": "3.8.3"
  }
 },
 "nbformat": 4,
 "nbformat_minor": 4
}
