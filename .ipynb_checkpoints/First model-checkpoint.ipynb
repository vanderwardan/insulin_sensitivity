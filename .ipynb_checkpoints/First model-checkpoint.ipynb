{
 "cells": [
  {
   "cell_type": "code",
   "execution_count": 1,
   "metadata": {},
   "outputs": [],
   "source": [
    "import numpy as np\n",
    "import pandas as pd\n",
    "import matplotlib.pyplot as plt\n",
    "import scipy.stats as sps\n",
    "from sklearn.linear_model import LinearRegression\n",
    "from sklearn.metrics import r2_score"
   ]
  },
  {
   "cell_type": "markdown",
   "metadata": {},
   "source": [
    "## First model"
   ]
  },
  {
   "cell_type": "markdown",
   "metadata": {},
   "source": [
    "We have such a equation\n",
    "$$\\frac{dG}{dt}=p_1 G + p_2$$\n",
    "And the solution is\n",
    "$$G(t) = (p_3+\\frac{p_2}{p_1}) e^{p_1t}-\\frac{p_2}{p_1}$$"
   ]
  },
  {
   "cell_type": "code",
   "execution_count": 52,
   "metadata": {},
   "outputs": [],
   "source": [
    "p_1=-1.09\n",
    "# p_1 /= 10\n",
    "p_2=8.5\n",
    "\n",
    "p_3=150\n",
    "size = 60\n",
    "\n",
    "T = np.linspace(0, size, size * 60)\n",
    "G = np.array([(p_3 + p_2 / p_1) * np.exp(p_1 * t) - p_2 / p_1 + sps.norm(0, .3).rvs(1)[0]\n",
    "              for t in T])"
   ]
  },
  {
   "cell_type": "code",
   "execution_count": 53,
   "metadata": {},
   "outputs": [
    {
     "data": {
      "text/plain": [
       "[<matplotlib.lines.Line2D at 0x7ff4dfb05520>]"
      ]
     },
     "execution_count": 53,
     "metadata": {},
     "output_type": "execute_result"
    },
    {
     "data": {
      "image/png": "[encoded data removed]",
      "text/plain": [
       "<Figure size 432x288 with 1 Axes>"
      ]
     },
     "metadata": {
      "needs_background": "light"
     },
     "output_type": "display_data"
    }
   ],
   "source": [
    "plt.plot(T, G)"
   ]
  },
  {
   "cell_type": "code",
   "execution_count": 54,
   "metadata": {},
   "outputs": [],
   "source": [
    "Y = (G[1:] - G[:-1]) / (1. / 60)\n",
    "X = np.array(G[:-1]).reshape((-1, 1))"
   ]
  },
  {
   "cell_type": "code",
   "execution_count": 55,
   "metadata": {},
   "outputs": [],
   "source": [
    "model = LinearRegression().fit(X[:], Y[:])\n",
    "y_pred = model.predict(X[:])"
   ]
  },
  {
   "cell_type": "code",
   "execution_count": 56,
   "metadata": {},
   "outputs": [
    {
     "name": "stdout",
     "output_type": "stream",
     "text": [
      "p1: -1.1114138735153065\n",
      "p2: 8.7174879017238\n"
     ]
    }
   ],
   "source": [
    "print('p1:', model.coef_[0])\n",
    "print('p2:', model.intercept_)"
   ]
  },
  {
   "cell_type": "code",
   "execution_count": 41,
   "metadata": {},
   "outputs": [
    {
     "data": {
      "text/plain": [
       "1.0"
      ]
     },
     "execution_count": 41,
     "metadata": {},
     "output_type": "execute_result"
    }
   ],
   "source": [
    "r2_score(y_pred, Y)"
   ]
  },
  {
   "cell_type": "markdown",
   "metadata": {},
   "source": [
    "## TODO\n",
    "\n",
    "0) Discover why parameters we found doesn't match true one - Vardan\n",
    "\n",
    "1) Try time step 1 second instead 1 min - Lorenz\n",
    "\n",
    "2) Try different model for first model - Anastasia\n",
    "\n",
    "3) Try to do the same for second model - Stan"
   ]
  },
  {
   "cell_type": "markdown",
   "metadata": {},
   "source": [
    "## Task 0\n",
    "\n",
    "When we used wrong p_1 (10 times bigger that it should be), G declined too fast and as soon as we sampled to few points, we can't precisely calculate $\\frac{dG}{dt}$. That's why coefs from Linear Regression doesn't match true ones. When we tried to sample more points it's became correct."
   ]
  },
  {
   "cell_type": "code",
   "execution_count": null,
   "metadata": {},
   "outputs": [],
   "source": []
  }
 ],
 "metadata": {
  "kernelspec": {
   "display_name": "Python 3",
   "language": "python",
   "name": "python3"
  },
  "language_info": {
   "codemirror_mode": {
    "name": "ipython",
    "version": 3
   },
   "file_extension": ".py",
   "mimetype": "text/x-python",
   "name": "python",
   "nbconvert_exporter": "python",
   "pygments_lexer": "ipython3",
   "version": "3.8.3"
  }
 },
 "nbformat": 4,
 "nbformat_minor": 4
}
